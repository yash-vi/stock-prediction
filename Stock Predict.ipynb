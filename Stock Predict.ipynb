{
 "cells": [
  {
   "cell_type": "markdown",
   "id": "2cc9a36b",
   "metadata": {},
   "source": [
    "# Import the libraries:"
   ]
  },
  {
   "cell_type": "code",
   "execution_count": 2,
   "id": "19eda6c4",
   "metadata": {},
   "outputs": [],
   "source": [
    "import os\n",
    "import numpy as np\n",
    "import pandas as pd\n",
    "import matplotlib.pyplot as plt\n",
    "%matplotlib inline"
   ]
  },
  {
   "cell_type": "markdown",
   "id": "0735bf5c",
   "metadata": {},
   "source": [
    "# Load the training dataset:"
   ]
  },
  {
   "cell_type": "code",
   "execution_count": 3,
   "id": "4cfa02c9",
   "metadata": {},
   "outputs": [
    {
     "data": {
      "text/html": [
       "<div>\n",
       "<style scoped>\n",
       "    .dataframe tbody tr th:only-of-type {\n",
       "        vertical-align: middle;\n",
       "    }\n",
       "\n",
       "    .dataframe tbody tr th {\n",
       "        vertical-align: top;\n",
       "    }\n",
       "\n",
       "    .dataframe thead th {\n",
       "        text-align: right;\n",
       "    }\n",
       "</style>\n",
       "<table border=\"1\" class=\"dataframe\">\n",
       "  <thead>\n",
       "    <tr style=\"text-align: right;\">\n",
       "      <th></th>\n",
       "      <th>Date</th>\n",
       "      <th>Open</th>\n",
       "      <th>High</th>\n",
       "      <th>Low</th>\n",
       "      <th>Close</th>\n",
       "      <th>Volume</th>\n",
       "    </tr>\n",
       "  </thead>\n",
       "  <tbody>\n",
       "    <tr>\n",
       "      <th>0</th>\n",
       "      <td>1/3/2012</td>\n",
       "      <td>325.25</td>\n",
       "      <td>332.83</td>\n",
       "      <td>324.97</td>\n",
       "      <td>663.59</td>\n",
       "      <td>7,380,500</td>\n",
       "    </tr>\n",
       "    <tr>\n",
       "      <th>1</th>\n",
       "      <td>1/4/2012</td>\n",
       "      <td>331.27</td>\n",
       "      <td>333.87</td>\n",
       "      <td>329.08</td>\n",
       "      <td>666.45</td>\n",
       "      <td>5,749,400</td>\n",
       "    </tr>\n",
       "    <tr>\n",
       "      <th>2</th>\n",
       "      <td>1/5/2012</td>\n",
       "      <td>329.83</td>\n",
       "      <td>330.75</td>\n",
       "      <td>326.89</td>\n",
       "      <td>657.21</td>\n",
       "      <td>6,590,300</td>\n",
       "    </tr>\n",
       "    <tr>\n",
       "      <th>3</th>\n",
       "      <td>1/6/2012</td>\n",
       "      <td>328.34</td>\n",
       "      <td>328.77</td>\n",
       "      <td>323.68</td>\n",
       "      <td>648.24</td>\n",
       "      <td>5,405,900</td>\n",
       "    </tr>\n",
       "    <tr>\n",
       "      <th>4</th>\n",
       "      <td>1/9/2012</td>\n",
       "      <td>322.04</td>\n",
       "      <td>322.29</td>\n",
       "      <td>309.46</td>\n",
       "      <td>620.76</td>\n",
       "      <td>11,688,800</td>\n",
       "    </tr>\n",
       "  </tbody>\n",
       "</table>\n",
       "</div>"
      ],
      "text/plain": [
       "       Date    Open    High     Low   Close      Volume\n",
       "0  1/3/2012  325.25  332.83  324.97  663.59   7,380,500\n",
       "1  1/4/2012  331.27  333.87  329.08  666.45   5,749,400\n",
       "2  1/5/2012  329.83  330.75  326.89  657.21   6,590,300\n",
       "3  1/6/2012  328.34  328.77  323.68  648.24   5,405,900\n",
       "4  1/9/2012  322.04  322.29  309.46  620.76  11,688,800"
      ]
     },
     "execution_count": 3,
     "metadata": {},
     "output_type": "execute_result"
    }
   ],
   "source": [
    "dataset_train = pd.read_csv(\"C:\\\\Users\\\\Bhramar\\\\Downloads\\\\Google_Stock_Price_Train.csv\")\n",
    "dataset_train.head()"
   ]
  },
  {
   "cell_type": "code",
   "execution_count": 4,
   "id": "679cdc23",
   "metadata": {},
   "outputs": [
    {
     "name": "stdout",
     "output_type": "stream",
     "text": [
      "[[325.25]\n",
      " [331.27]\n",
      " [329.83]\n",
      " ...\n",
      " [793.7 ]\n",
      " [783.33]\n",
      " [782.75]]\n",
      "(1258, 1)\n"
     ]
    }
   ],
   "source": [
    "training_set = dataset_train.iloc[:,1:2].values\n",
    "print(training_set)\n",
    "print(training_set.shape)"
   ]
  },
  {
   "cell_type": "markdown",
   "id": "07b6e1b1",
   "metadata": {},
   "source": [
    "# Normalizing the dataset:"
   ]
  },
  {
   "cell_type": "code",
   "execution_count": 5,
   "id": "c28b8c10",
   "metadata": {},
   "outputs": [
    {
     "data": {
      "text/plain": [
       "array([[0.08581368],\n",
       "       [0.09701243],\n",
       "       [0.09433366],\n",
       "       ...,\n",
       "       [0.95725128],\n",
       "       [0.93796041],\n",
       "       [0.93688146]])"
      ]
     },
     "execution_count": 5,
     "metadata": {},
     "output_type": "execute_result"
    }
   ],
   "source": [
    "from sklearn.preprocessing import MinMaxScaler\n",
    "\n",
    "scaler = MinMaxScaler(feature_range = (0,1))\n",
    "scaled_training_set = scaler.fit_transform(training_set)\n",
    "\n",
    "scaled_training_set"
   ]
  },
  {
   "cell_type": "markdown",
   "id": "e47d8ccb",
   "metadata": {},
   "source": [
    "# Creating x_train and y_train data structures:"
   ]
  },
  {
   "cell_type": "code",
   "execution_count": 6,
   "id": "87055876",
   "metadata": {},
   "outputs": [
    {
     "name": "stdout",
     "output_type": "stream",
     "text": [
      "(1198, 60)\n",
      "(1198,)\n"
     ]
    }
   ],
   "source": [
    "x_train = []\n",
    "y_train = []\n",
    "for i in range(60,1258):\n",
    "    x_train.append(scaled_training_set[i-60:i,0])\n",
    "    y_train.append(scaled_training_set[i,0])\n",
    "x_train = np.array(x_train)\n",
    "y_train = np.array(y_train)\n",
    "\n",
    "print(x_train.shape)\n",
    "print(y_train.shape)"
   ]
  },
  {
   "cell_type": "code",
   "execution_count": 7,
   "id": "0800556f",
   "metadata": {},
   "outputs": [
    {
     "data": {
      "text/plain": [
       "(1198, 60, 1)"
      ]
     },
     "execution_count": 7,
     "metadata": {},
     "output_type": "execute_result"
    }
   ],
   "source": [
    "x_train = np.reshape(x_train,(x_train.shape[0],x_train.shape[1],1))\n",
    "x_train.shape"
   ]
  },
  {
   "cell_type": "markdown",
   "id": "7c9e306b",
   "metadata": {},
   "source": [
    "# Importing libraries and layers for LSTM:"
   ]
  },
  {
   "cell_type": "code",
   "execution_count": 8,
   "id": "386ee3a8",
   "metadata": {},
   "outputs": [],
   "source": [
    "from keras.models import Sequential\n",
    "from keras.layers import LSTM\n",
    "from keras.layers import Dense\n",
    "from keras.layers import Dropout"
   ]
  },
  {
   "cell_type": "markdown",
   "id": "1d243f87",
   "metadata": {},
   "source": [
    "# LSTM model:"
   ]
  },
  {
   "cell_type": "code",
   "execution_count": 9,
   "id": "bc635301",
   "metadata": {},
   "outputs": [],
   "source": [
    "#building the model\n",
    "\n",
    "regressor = Sequential()\n",
    "\n",
    "regressor.add(LSTM(units = 50, return_sequences=True, input_shape=(x_train.shape[1],1)))\n",
    "regressor.add(Dropout(0.2))\n",
    "\n",
    "regressor.add(LSTM(units = 50, return_sequences=True))\n",
    "regressor.add(Dropout(0.2))\n",
    "\n",
    "regressor.add(LSTM(units = 50, return_sequences=True))\n",
    "regressor.add(Dropout(0.2))\n",
    "\n",
    "regressor.add(LSTM(units = 50))\n",
    "regressor.add(Dropout(0.2))\n",
    "\n",
    "regressor.add(Dense(units=1))"
   ]
  },
  {
   "cell_type": "code",
   "execution_count": 10,
   "id": "766030a7",
   "metadata": {},
   "outputs": [
    {
     "name": "stdout",
     "output_type": "stream",
     "text": [
      "Epoch 1/100\n",
      "38/38 [==============================] - 38s 259ms/step - loss: 0.0336\n",
      "Epoch 2/100\n",
      "38/38 [==============================] - 10s 249ms/step - loss: 0.0063\n",
      "Epoch 3/100\n",
      "38/38 [==============================] - 9s 240ms/step - loss: 0.0056\n",
      "Epoch 4/100\n",
      "38/38 [==============================] - 9s 231ms/step - loss: 0.0056\n",
      "Epoch 5/100\n",
      "38/38 [==============================] - 10s 252ms/step - loss: 0.0052\n",
      "Epoch 6/100\n",
      "38/38 [==============================] - 11s 281ms/step - loss: 0.0054\n",
      "Epoch 7/100\n",
      "38/38 [==============================] - 11s 290ms/step - loss: 0.0047\n",
      "Epoch 8/100\n",
      "38/38 [==============================] - 9s 248ms/step - loss: 0.0046\n",
      "Epoch 9/100\n",
      "38/38 [==============================] - 9s 225ms/step - loss: 0.0043\n",
      "Epoch 10/100\n",
      "38/38 [==============================] - 10s 264ms/step - loss: 0.0048\n",
      "Epoch 11/100\n",
      "38/38 [==============================] - 10s 260ms/step - loss: 0.0041\n",
      "Epoch 12/100\n",
      "38/38 [==============================] - 10s 273ms/step - loss: 0.0042\n",
      "Epoch 13/100\n",
      "38/38 [==============================] - 11s 300ms/step - loss: 0.0040\n",
      "Epoch 14/100\n",
      "38/38 [==============================] - 9s 244ms/step - loss: 0.0038\n",
      "Epoch 15/100\n",
      "38/38 [==============================] - 9s 238ms/step - loss: 0.0043\n",
      "Epoch 16/100\n",
      "38/38 [==============================] - 9s 236ms/step - loss: 0.0037\n",
      "Epoch 17/100\n",
      "38/38 [==============================] - 9s 227ms/step - loss: 0.0038\n",
      "Epoch 18/100\n",
      "38/38 [==============================] - 9s 241ms/step - loss: 0.0037\n",
      "Epoch 19/100\n",
      "38/38 [==============================] - 9s 233ms/step - loss: 0.0034\n",
      "Epoch 20/100\n",
      "38/38 [==============================] - 10s 261ms/step - loss: 0.0035\n",
      "Epoch 21/100\n",
      "38/38 [==============================] - 10s 260ms/step - loss: 0.0036\n",
      "Epoch 22/100\n",
      "38/38 [==============================] - 9s 233ms/step - loss: 0.0037\n",
      "Epoch 23/100\n",
      "38/38 [==============================] - 9s 230ms/step - loss: 0.0034\n",
      "Epoch 24/100\n",
      "38/38 [==============================] - 9s 228ms/step - loss: 0.0030\n",
      "Epoch 25/100\n",
      "38/38 [==============================] - 10s 258ms/step - loss: 0.0031\n",
      "Epoch 26/100\n",
      "38/38 [==============================] - 10s 259ms/step - loss: 0.0029\n",
      "Epoch 27/100\n",
      "38/38 [==============================] - 9s 249ms/step - loss: 0.0033\n",
      "Epoch 28/100\n",
      "38/38 [==============================] - 10s 270ms/step - loss: 0.0032\n",
      "Epoch 29/100\n",
      "38/38 [==============================] - 9s 234ms/step - loss: 0.0032\n",
      "Epoch 30/100\n",
      "38/38 [==============================] - 9s 234ms/step - loss: 0.0031\n",
      "Epoch 31/100\n",
      "38/38 [==============================] - 10s 254ms/step - loss: 0.0031\n",
      "Epoch 32/100\n",
      "38/38 [==============================] - 12s 326ms/step - loss: 0.0038\n",
      "Epoch 33/100\n",
      "38/38 [==============================] - 9s 238ms/step - loss: 0.0029\n",
      "Epoch 34/100\n",
      "38/38 [==============================] - 9s 229ms/step - loss: 0.0028\n",
      "Epoch 35/100\n",
      "38/38 [==============================] - 9s 237ms/step - loss: 0.0029\n",
      "Epoch 36/100\n",
      "38/38 [==============================] - 9s 226ms/step - loss: 0.0026\n",
      "Epoch 37/100\n",
      "38/38 [==============================] - 9s 236ms/step - loss: 0.0027\n",
      "Epoch 38/100\n",
      "38/38 [==============================] - 10s 258ms/step - loss: 0.0025\n",
      "Epoch 39/100\n",
      "38/38 [==============================] - 9s 248ms/step - loss: 0.0025\n",
      "Epoch 40/100\n",
      "38/38 [==============================] - 10s 271ms/step - loss: 0.0026\n",
      "Epoch 41/100\n",
      "38/38 [==============================] - 10s 263ms/step - loss: 0.0025\n",
      "Epoch 42/100\n",
      "38/38 [==============================] - 11s 281ms/step - loss: 0.0024\n",
      "Epoch 43/100\n",
      "38/38 [==============================] - 10s 262ms/step - loss: 0.0025\n",
      "Epoch 44/100\n",
      "38/38 [==============================] - 9s 236ms/step - loss: 0.0024\n",
      "Epoch 45/100\n",
      "38/38 [==============================] - 10s 260ms/step - loss: 0.0025\n",
      "Epoch 46/100\n",
      "38/38 [==============================] - 10s 254ms/step - loss: 0.0024\n",
      "Epoch 47/100\n",
      "38/38 [==============================] - 10s 255ms/step - loss: 0.0022\n",
      "Epoch 48/100\n",
      "38/38 [==============================] - 10s 259ms/step - loss: 0.0022\n",
      "Epoch 49/100\n",
      "38/38 [==============================] - 9s 243ms/step - loss: 0.0023\n",
      "Epoch 50/100\n",
      "38/38 [==============================] - 10s 254ms/step - loss: 0.0025\n",
      "Epoch 51/100\n",
      "38/38 [==============================] - 10s 273ms/step - loss: 0.0020\n",
      "Epoch 52/100\n",
      "38/38 [==============================] - 11s 285ms/step - loss: 0.0022\n",
      "Epoch 53/100\n",
      "38/38 [==============================] - 9s 248ms/step - loss: 0.0020\n",
      "Epoch 54/100\n",
      "38/38 [==============================] - 10s 250ms/step - loss: 0.0021\n",
      "Epoch 55/100\n",
      "38/38 [==============================] - 10s 270ms/step - loss: 0.0020\n",
      "Epoch 56/100\n",
      "38/38 [==============================] - 10s 253ms/step - loss: 0.0020\n",
      "Epoch 57/100\n",
      "38/38 [==============================] - 10s 269ms/step - loss: 0.0020\n",
      "Epoch 58/100\n",
      "38/38 [==============================] - 10s 274ms/step - loss: 0.0020\n",
      "Epoch 59/100\n",
      "38/38 [==============================] - 10s 263ms/step - loss: 0.0020\n",
      "Epoch 60/100\n",
      "38/38 [==============================] - 10s 262ms/step - loss: 0.0023\n",
      "Epoch 61/100\n",
      "38/38 [==============================] - 11s 282ms/step - loss: 0.0019\n",
      "Epoch 62/100\n",
      "38/38 [==============================] - 9s 245ms/step - loss: 0.0018\n",
      "Epoch 63/100\n",
      "38/38 [==============================] - 10s 257ms/step - loss: 0.0021\n",
      "Epoch 64/100\n",
      "38/38 [==============================] - 10s 267ms/step - loss: 0.0018\n",
      "Epoch 65/100\n",
      "38/38 [==============================] - 9s 245ms/step - loss: 0.0018\n",
      "Epoch 66/100\n",
      "38/38 [==============================] - 9s 240ms/step - loss: 0.0018\n",
      "Epoch 67/100\n",
      "38/38 [==============================] - 12s 327ms/step - loss: 0.0018\n",
      "Epoch 68/100\n",
      "38/38 [==============================] - 9s 244ms/step - loss: 0.0021\n",
      "Epoch 69/100\n",
      "38/38 [==============================] - 10s 277ms/step - loss: 0.0018\n",
      "Epoch 70/100\n",
      "38/38 [==============================] - 9s 234ms/step - loss: 0.0018\n",
      "Epoch 71/100\n",
      "38/38 [==============================] - 9s 248ms/step - loss: 0.0018\n",
      "Epoch 72/100\n",
      "38/38 [==============================] - 10s 251ms/step - loss: 0.0018\n",
      "Epoch 73/100\n",
      "38/38 [==============================] - 9s 245ms/step - loss: 0.0018\n",
      "Epoch 74/100\n",
      "38/38 [==============================] - 10s 252ms/step - loss: 0.0019\n",
      "Epoch 75/100\n",
      "38/38 [==============================] - 9s 242ms/step - loss: 0.0017\n",
      "Epoch 76/100\n",
      "38/38 [==============================] - 11s 281ms/step - loss: 0.0014\n",
      "Epoch 77/100\n",
      "38/38 [==============================] - 11s 297ms/step - loss: 0.0016\n",
      "Epoch 78/100\n",
      "38/38 [==============================] - 11s 288ms/step - loss: 0.0016\n",
      "Epoch 79/100\n",
      "38/38 [==============================] - 11s 293ms/step - loss: 0.0016\n",
      "Epoch 80/100\n",
      "38/38 [==============================] - 10s 269ms/step - loss: 0.0015\n",
      "Epoch 81/100\n",
      "38/38 [==============================] - 10s 269ms/step - loss: 0.0014\n",
      "Epoch 82/100\n",
      "38/38 [==============================] - 11s 278ms/step - loss: 0.0015\n",
      "Epoch 83/100\n",
      "38/38 [==============================] - 10s 262ms/step - loss: 0.0015\n",
      "Epoch 84/100\n",
      "38/38 [==============================] - 10s 256ms/step - loss: 0.0015\n",
      "Epoch 85/100\n",
      "38/38 [==============================] - 11s 289ms/step - loss: 0.0018\n",
      "Epoch 86/100\n",
      "38/38 [==============================] - 10s 268ms/step - loss: 0.0014\n",
      "Epoch 87/100\n",
      "38/38 [==============================] - 11s 284ms/step - loss: 0.0015\n",
      "Epoch 88/100\n",
      "38/38 [==============================] - 10s 267ms/step - loss: 0.0015\n",
      "Epoch 89/100\n",
      "38/38 [==============================] - 9s 237ms/step - loss: 0.0015\n",
      "Epoch 90/100\n",
      "38/38 [==============================] - 9s 244ms/step - loss: 0.0014\n",
      "Epoch 91/100\n",
      "38/38 [==============================] - 9s 248ms/step - loss: 0.0013\n",
      "Epoch 92/100\n",
      "38/38 [==============================] - 9s 238ms/step - loss: 0.0016\n",
      "Epoch 93/100\n",
      "38/38 [==============================] - 11s 302ms/step - loss: 0.0015\n",
      "Epoch 94/100\n",
      "38/38 [==============================] - 11s 289ms/step - loss: 0.0013\n",
      "Epoch 95/100\n",
      "38/38 [==============================] - 10s 267ms/step - loss: 0.0013\n",
      "Epoch 96/100\n",
      "38/38 [==============================] - 10s 272ms/step - loss: 0.0014\n",
      "Epoch 97/100\n",
      "38/38 [==============================] - 10s 250ms/step - loss: 0.0015\n",
      "Epoch 98/100\n",
      "38/38 [==============================] - 10s 256ms/step - loss: 0.0015\n",
      "Epoch 99/100\n",
      "38/38 [==============================] - 10s 275ms/step - loss: 0.0013\n",
      "Epoch 100/100\n",
      "38/38 [==============================] - 9s 246ms/step - loss: 0.0014\n"
     ]
    },
    {
     "data": {
      "text/plain": [
       "<keras.callbacks.History at 0x1de205b18a0>"
      ]
     },
     "execution_count": 10,
     "metadata": {},
     "output_type": "execute_result"
    }
   ],
   "source": [
    "#fitting the model\n",
    "\n",
    "regressor.compile(optimizer = 'adam', loss = 'mean_squared_error')\n",
    "regressor.fit(x_train, y_train, epochs=100, batch_size=32)"
   ]
  },
  {
   "cell_type": "markdown",
   "id": "85911438",
   "metadata": {},
   "source": [
    "# Loading the test dataset:"
   ]
  },
  {
   "cell_type": "code",
   "execution_count": 11,
   "id": "fd856c9d",
   "metadata": {},
   "outputs": [],
   "source": [
    "dataset_test = pd.read_csv(\"C:\\\\Users\\\\Bhramar\\\\Downloads\\\\Google_Stock_Price_Test.csv\")\n",
    "actual_stock_price = dataset_test.iloc[:,1:2].values"
   ]
  },
  {
   "cell_type": "markdown",
   "id": "92d2ec0a",
   "metadata": {},
   "source": [
    "# Preparing the input for model:"
   ]
  },
  {
   "cell_type": "code",
   "execution_count": 14,
   "id": "fea87378",
   "metadata": {},
   "outputs": [],
   "source": [
    "dataset_total = pd.concat((dataset_train['Open'],dataset_test['Open']), axis = 0)\n",
    "inputs = dataset_total[len(dataset_total)-len(dataset_test)-60:].values\n",
    "\n",
    "inputs = inputs.reshape(-1,1)\n",
    "inputs = scaler.transform(inputs)\n",
    "\n",
    "x_test = []\n",
    "for i in range(60,80):\n",
    "    x_test.append(inputs[i-60:i,0])\n",
    "x_test = np.array(x_test)\n",
    "x_test = np.reshape(x_test,(x_test.shape[0], x_test.shape[1], 1))"
   ]
  },
  {
   "cell_type": "markdown",
   "id": "f232a158",
   "metadata": {},
   "source": [
    "# Predicting values for Jan 2017 stock prices:"
   ]
  },
  {
   "cell_type": "code",
   "execution_count": 15,
   "id": "0389843d",
   "metadata": {},
   "outputs": [
    {
     "name": "stdout",
     "output_type": "stream",
     "text": [
      "1/1 [==============================] - 6s 6s/step\n"
     ]
    }
   ],
   "source": [
    "predicted_stock_price = regressor.predict(x_test)\n",
    "predicted_stock_price = scaler.inverse_transform(predicted_stock_price)"
   ]
  },
  {
   "cell_type": "markdown",
   "id": "1ecdfb3a",
   "metadata": {},
   "source": [
    "# Plotting actual and predicted prices for Google stocks:"
   ]
  },
  {
   "cell_type": "code",
   "execution_count": 17,
   "id": "1bf90c3a",
   "metadata": {},
   "outputs": [
    {
     "data": {
      "text/plain": [
       "<matplotlib.legend.Legend at 0x1de26a74b80>"
      ]
     },
     "execution_count": 17,
     "metadata": {},
     "output_type": "execute_result"
    },
    {
     "data": {
      "image/png": "[encoded data removed]",
      "text/plain": [
       "<Figure size 640x480 with 1 Axes>"
      ]
     },
     "metadata": {},
     "output_type": "display_data"
    }
   ],
   "source": [
    "plt.plot(actual_stock_price, color = 'red', label = 'Actual Google Stock Price')\n",
    "plt.plot(predicted_stock_price, color = 'blue', label = 'Predicted Google Stock Price')\n",
    "plt.title('Google Stock Price Prediction')\n",
    "plt.xlabel('Time')\n",
    "plt.ylabel('Google Stock Price')\n",
    "plt.legend()"
   ]
  },
  {
   "cell_type": "code",
   "execution_count": null,
   "id": "6c978b30",
   "metadata": {},
   "outputs": [],
   "source": []
  },
  {
   "cell_type": "code",
   "execution_count": null,
   "id": "ad27bed5",
   "metadata": {},
   "outputs": [],
   "source": []
  }
 ],
 "metadata": {
  "kernelspec": {
   "display_name": "Python 3 (ipykernel)",
   "language": "python",
   "name": "python3"
  },
  "language_info": {
   "codemirror_mode": {
    "name": "ipython",
    "version": 3
   },
   "file_extension": ".py",
   "mimetype": "text/x-python",
   "name": "python",
   "nbconvert_exporter": "python",
   "pygments_lexer": "ipython3",
   "version": "3.10.9"
  }
 },
 "nbformat": 4,
 "nbformat_minor": 5
}
